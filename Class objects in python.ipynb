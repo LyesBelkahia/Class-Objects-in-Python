{
 "cells": [
  {
   "cell_type": "code",
   "execution_count": 31,
   "id": "773f41a0",
   "metadata": {},
   "outputs": [
    {
     "name": "stdout",
     "output_type": "stream",
     "text": [
      "1 2 3\n"
     ]
    }
   ],
   "source": [
    "class Point3D:\n",
    "    x=1\n",
    "    \n",
    "    y=2\n",
    "    \n",
    "    z=3\n",
    "    \n",
    "my_point=Point3D\n",
    "print(my_point.x, my_point.y, my_point.z)"
   ]
  },
  {
   "cell_type": "code",
   "execution_count": 64,
   "id": "fca2ea0b",
   "metadata": {},
   "outputs": [
    {
     "name": "stdout",
     "output_type": "stream",
     "text": [
      "12 14\n"
     ]
    }
   ],
   "source": [
    "class rectangle:\n",
    "\n",
    "    def area(length, width):\n",
    "        x=length\n",
    "        y=width\n",
    "        return x*y\n",
    "    \n",
    "    def perimetre(length, width):\n",
    "        a=length\n",
    "        b=width\n",
    "        c=a+b\n",
    "        return 2*c\n",
    "my_rectangle=rectangle\n",
    "print(my_rectangle.area(3, 4), my_rectangle.perimetre(3, 4))\n",
    "\n",
    "\n"
   ]
  },
  {
   "cell_type": "code",
   "execution_count": 98,
   "id": "11a31d7b",
   "metadata": {},
   "outputs": [
    {
     "name": "stdout",
     "output_type": "stream",
     "text": [
      "le rayon du cercle est : 6\n",
      "area = 113.09733552923255 perimetre = 37.69911184307752\n",
      "abscisse du centre :2\n",
      "ordonnee du centre :1\n",
      "abscisse de A :3\n",
      "ordonnee de A :6\n",
      "A est dans ce cercle\n"
     ]
    }
   ],
   "source": [
    "import math\n",
    "k=float(input(\"le rayon du cercle est : \"))\n",
    "class circle:\n",
    "    def __init__(self, O, r):\n",
    "        self.O = center\n",
    "        self.r = radius\n",
    "        \n",
    "        \n",
    "    def area(radius, p):\n",
    "        c=radius\n",
    "        d=p\n",
    "        return c*c*d\n",
    "    \n",
    "    def perimetre(radius, p):\n",
    "        a=radius\n",
    "        b=p\n",
    "        return 2*a*b\n",
    "    \n",
    "    \n",
    "    def isInside(w, x, y, z):\n",
    "        abscisse=w\n",
    "        ordonnee=x\n",
    "        abscisse1=y\n",
    "        ordonnee1=z\n",
    "        \n",
    "        e=abscisse+ordonnee+abscisse1+ordonnee1\n",
    "        f=e/2\n",
    "        \n",
    "        if f>k or f==k:\n",
    "            return \"A est dans ce cercle\"\n",
    "        else:\n",
    "            return \"A n'est pas dans ce cercle\"\n",
    "        \n",
    "        \n",
    "   \n",
    "        \n",
    "my_circle=circle\n",
    "\n",
    "print(\"area =\", my_circle.area(k, math.pi), \"perimetre =\", my_circle.perimetre(k, math.pi))\n",
    "\n",
    "print(my_circle.isInside(float(input(\"abscisse du centre :\")), float(input(\"ordonnee du centre :\")),float(input(\"abscisse de A :\")), float(input(\"ordonnee de A :\"))))\n",
    "\n",
    "\n"
   ]
  },
  {
   "cell_type": "code",
   "execution_count": 2,
   "id": "3e595a70",
   "metadata": {},
   "outputs": [
    {
     "name": "stdout",
     "output_type": "stream",
     "text": [
      "How much do you want on your Bank account?150\n",
      "Do you want to change your bank account? Tap 'yes' or 'no'.yes\n",
      "Do you want to do a deposit or a withdraw? Tap 'deposit'or'withdraw' deposit\n",
      "How much?50\n",
      "your new sold is = 200.0\n",
      "Do you want to change your bank account? Tap 'yes' or 'no'.yes\n",
      "Do you want to do a deposit or a withdraw? Tap 'deposit'or'withdraw' withdraw\n",
      "How much? 50\n",
      "your new sold is = 150.0\n",
      "Do you want to change your bank account? Tap 'yes' or 'no'.no\n",
      "you have 150.0 €\n"
     ]
    }
   ],
   "source": [
    "a=0\n",
    "\n",
    "class Bank:\n",
    "#    def __init__(self, account):\n",
    "#        self.account = account\n",
    "        \n",
    "    def deposit(x):\n",
    "        return g+x\n",
    "    \n",
    "    def withdraw(y):\n",
    "        return g-y\n",
    "solde=Bank\n",
    "g=float(input(\"How much do you want on your Bank account?\"))\n",
    "while a==0:\n",
    "    e=input(\"Do you want to change your bank account? Tap 'yes' or 'no'.\")\n",
    "    if e==\"yes\":\n",
    "        b=input(\"Do you want to do a deposit or a withdraw? Tap 'deposit'or'withdraw' \")\n",
    "        if b==\"deposit\":\n",
    "            c=int(input(\"How much?\"))\n",
    "            print(\"your new sold is =\", solde.deposit(c))\n",
    "            g=solde.deposit(c)\n",
    "            \n",
    "        elif b==\"withdraw\":\n",
    "            d=int(input(\"How much? \"))\n",
    "            print(\"your new sold is =\", solde.withdraw(d))\n",
    "            g=solde.withdraw(d)\n",
    "            \n",
    "        elif b!=\"deposit\" or \"withdraw\":\n",
    "            print(b,\"is not valid. Try deposit or withdraw\")\n",
    "\n",
    "    elif e==\"no\":\n",
    "        a=a+1\n",
    "        \n",
    "    elif e!=\"yes\" or e!=\"no\":\n",
    "        print(\"You have to choose between 'yes' and 'no'.\")\n",
    "        a=0\n",
    "print(\"you have\", g, \"€\")"
   ]
  },
  {
   "cell_type": "code",
   "execution_count": null,
   "id": "e20d97b7",
   "metadata": {},
   "outputs": [],
   "source": []
  }
 ],
 "metadata": {
  "kernelspec": {
   "display_name": "Python 3 (ipykernel)",
   "language": "python",
   "name": "python3"
  },
  "language_info": {
   "codemirror_mode": {
    "name": "ipython",
    "version": 3
   },
   "file_extension": ".py",
   "mimetype": "text/x-python",
   "name": "python",
   "nbconvert_exporter": "python",
   "pygments_lexer": "ipython3",
   "version": "3.9.7"
  }
 },
 "nbformat": 4,
 "nbformat_minor": 5
}
